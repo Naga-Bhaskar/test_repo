{
  "nbformat": 4,
  "nbformat_minor": 0,
  "metadata": {
    "colab": {
      "name": "IDS561LAB1.ipynb",
      "provenance": [],
      "include_colab_link": true
    },
    "kernelspec": {
      "name": "python3",
      "display_name": "Python 3"
    }
  },
  "cells": [
    {
      "cell_type": "markdown",
      "metadata": {
        "id": "view-in-github",
        "colab_type": "text"
      },
      "source": [
        "<a href=\"https://colab.research.google.com/github/Naga-Bhaskar/test_repo/blob/master/IDS561LAB1.ipynb\" target=\"_parent\"><img src=\"https://colab.research.google.com/assets/colab-badge.svg\" alt=\"Open In Colab\"/></a>"
      ]
    },
    {
      "cell_type": "markdown",
      "metadata": {
        "id": "0DaPIVvpGIKU"
      },
      "source": [
        "# Helpful tutorials of Python programming:\n",
        "\n",
        "https://ocw.mit.edu/courses/electrical-engineering-and-computer-science/6-189-a-gentle-introduction-to-programming-using-python-january-iap-2011/lectures/\n",
        "\n",
        "https://cs231n.github.io/python-numpy-tutorial/#python-lists"
      ]
    },
    {
      "cell_type": "markdown",
      "metadata": {
        "id": "ItVVvW-hnaju"
      },
      "source": [
        "# Data Type"
      ]
    },
    {
      "cell_type": "code",
      "metadata": {
        "id": "qZJLCDh2jOhv"
      },
      "source": [
        "# Constants\n",
        "print(123)\n",
        "\n",
        "# Variables\n",
        "x = 12.2\n",
        "# Name rules: Must start with a letter or underscore _; Only consist of letters, numbers, and underscores; \n",
        "# Case sensitive; You can not use reserved words as variable names\n"
      ],
      "execution_count": null,
      "outputs": []
    },
    {
      "cell_type": "code",
      "metadata": {
        "id": "Uft6Qj2ro3vC"
      },
      "source": [
        "# String\n",
        "s = 'Hello World'\n",
        "print(s[0])\n",
        "print(s[-1])"
      ],
      "execution_count": null,
      "outputs": []
    },
    {
      "cell_type": "code",
      "metadata": {
        "id": "9ry8BDhxo-1i"
      },
      "source": [
        "# List\n",
        "list = [ 'abcd', 786 , 2.23, 'john', 70.2 ]\n",
        "print(list[0:-1])"
      ],
      "execution_count": null,
      "outputs": []
    },
    {
      "cell_type": "code",
      "metadata": {
        "id": "6SBnfo9BmKCo"
      },
      "source": [
        "print(list[-1])"
      ],
      "execution_count": null,
      "outputs": []
    },
    {
      "cell_type": "code",
      "metadata": {
        "id": "kZKCQr0RsdBx"
      },
      "source": [
        "numbers2 = [1,[3,45],10]\n",
        "print(len(numbers2))"
      ],
      "execution_count": null,
      "outputs": []
    },
    {
      "cell_type": "code",
      "metadata": {
        "id": "zKS-EyzHtVFz"
      },
      "source": [
        "# Nested lists are often used to represent matrices.\n",
        "matrix = [[1,2,3],[4,5,6],[7,8,9]]\n",
        "print(matrix[1])\n",
        "print(matrix[1][2])"
      ],
      "execution_count": null,
      "outputs": []
    },
    {
      "cell_type": "code",
      "metadata": {
        "id": "-HTk0_Z-pDOb"
      },
      "source": [
        "# Tuple\n",
        "# similar to list, but elements and size in tuples can not be changed\n",
        "tuple1 = ( 'abcd', 786 , 2.23, 'john', 70.2 )\n",
        "print(tuple1)"
      ],
      "execution_count": null,
      "outputs": []
    },
    {
      "cell_type": "code",
      "metadata": {
        "id": "_u8C04vjtr-B"
      },
      "source": [
        "tuple1[2] = 5 #Error"
      ],
      "execution_count": null,
      "outputs": []
    },
    {
      "cell_type": "code",
      "metadata": {
        "id": "m3UVICOApvhD"
      },
      "source": [
        "# Dictionary\n",
        "# Consists of a number of key-value pairs; enclosed by curly braces ({ })\n",
        "# Use other types as an index\n",
        "# Dictionaries are like bags – no order\n",
        "ddd = dict()\n",
        "ddd['age'] = 21 \n",
        "ddd['score'] = 90\n",
        "print(ddd)"
      ],
      "execution_count": null,
      "outputs": []
    },
    {
      "cell_type": "code",
      "metadata": {
        "id": "4BygD0TOu6HA"
      },
      "source": [
        "'age' in ddd"
      ],
      "execution_count": null,
      "outputs": []
    },
    {
      "cell_type": "code",
      "metadata": {
        "id": "28UEJN9qvSgf"
      },
      "source": [
        "# Iterate dictionaries\n",
        "counts = {'chuck': 1, 'fred': 42, 'jan': 100} \n",
        "for key in counts:\n",
        "  print(key, counts[key])"
      ],
      "execution_count": null,
      "outputs": []
    },
    {
      "cell_type": "code",
      "metadata": {
        "id": "PbK4C5hdp821"
      },
      "source": [
        "# Type matters\n",
        "a = '123'\n",
        "b = a + 1 # Error"
      ],
      "execution_count": null,
      "outputs": []
    },
    {
      "cell_type": "code",
      "metadata": {
        "id": "4jMZU4VWs5gd"
      },
      "source": [
        "a = [1,2,3]\n",
        "b = ['x','y']\n",
        "print(a+b)"
      ],
      "execution_count": null,
      "outputs": []
    },
    {
      "cell_type": "markdown",
      "metadata": {
        "id": "EmmPRGQeqpc1"
      },
      "source": [
        "# Loop"
      ]
    },
    {
      "cell_type": "code",
      "metadata": {
        "id": "b7-WvuY3qLeU"
      },
      "source": [
        "# While statement\n",
        "x = 5\n",
        "while x > 0:\n",
        "  print(x)\n",
        "  if x == 3:\n",
        "    break\n",
        "  x = x - 1\n",
        "print(x)"
      ],
      "execution_count": null,
      "outputs": []
    },
    {
      "cell_type": "code",
      "metadata": {
        "id": "QRwKjYh_r9HN"
      },
      "source": [
        "# For loop\n",
        "largest_so_far = -1\n",
        "for current in [3, 41, 12, 9, 74, 15]:\n",
        "  if current > largest_so_far:\n",
        "    largest_so_far = current\n",
        "print(largest_so_far)"
      ],
      "execution_count": null,
      "outputs": []
    },
    {
      "cell_type": "markdown",
      "metadata": {
        "id": "8csnHCLqvtTq"
      },
      "source": [
        "# Function"
      ]
    },
    {
      "cell_type": "code",
      "metadata": {
        "id": "DKT4wSRbvvWh"
      },
      "source": [
        "import math\n",
        "\n",
        "# Build-in functions\n",
        "degrees = 45\n",
        "angle = degrees * 2 * math.pi / 360 \n",
        "math.sin(angle)\n",
        "\n",
        "#Combination of functions \n",
        "x = math.exp(math.log(10))"
      ],
      "execution_count": null,
      "outputs": []
    },
    {
      "cell_type": "code",
      "metadata": {
        "id": "fzRys1rgw_wc"
      },
      "source": [
        "# Define your own functions\n",
        "\n",
        "# Function blocks begin with the keyword def, followed by the function name, parentheses (), and a colon :\n",
        "\n",
        "def greet(lang):\n",
        "  if lang == 'es':\n",
        "    print('Hola')\n",
        "  elif lang == 'fr':\n",
        "    print('Bonjour')\n",
        "  else:\n",
        "    print('Hello')\n",
        "\n",
        "greet('es')"
      ],
      "execution_count": null,
      "outputs": []
    },
    {
      "cell_type": "markdown",
      "metadata": {
        "id": "UzVBC33Z1EBG"
      },
      "source": [
        "# import data"
      ]
    },
    {
      "cell_type": "markdown",
      "metadata": {
        "id": "9pSoqWlC2eXV"
      },
      "source": [
        "## import from local files"
      ]
    },
    {
      "cell_type": "code",
      "metadata": {
        "id": "_Pcj_3Qr1Gog"
      },
      "source": [
        "from google.colab import files\n",
        "uploaded = files.upload()"
      ],
      "execution_count": null,
      "outputs": []
    },
    {
      "cell_type": "code",
      "metadata": {
        "id": "820r9EBH14x5"
      },
      "source": [
        "import io\n",
        "import pandas as pd\n",
        "\n",
        "df = pd.read_csv(\"Iris.csv\")\n",
        "# Dataset is now stored in a Pandas Dataframe\n",
        "\n",
        "print(df)"
      ],
      "execution_count": null,
      "outputs": []
    },
    {
      "cell_type": "markdown",
      "metadata": {
        "id": "ilHd9V2b2jIF"
      },
      "source": [
        "## import from Google drive"
      ]
    },
    {
      "cell_type": "code",
      "metadata": {
        "id": "aof5mq5D2na1"
      },
      "source": [
        "from google.colab import drive\n",
        "drive.mount('/content/drive')"
      ],
      "execution_count": null,
      "outputs": []
    },
    {
      "cell_type": "code",
      "metadata": {
        "id": "zlfPoQOV3dHK"
      },
      "source": [
        "import os\n",
        "os.chdir(\"/content/drive/MyDrive/IDS 561 TA/Labs/\") #this is my folders,\n",
        "# you should change it to your own path\n",
        "!ls #showing the documents inside of the folder"
      ],
      "execution_count": null,
      "outputs": []
    },
    {
      "cell_type": "code",
      "source": [
        "import pandas as pd"
      ],
      "metadata": {
        "id": "gnQGEuM53i-i"
      },
      "execution_count": null,
      "outputs": []
    },
    {
      "cell_type": "code",
      "metadata": {
        "id": "Wp_j57t_30CO"
      },
      "source": [
        "df2 = pd.read_csv('Iris.csv')\n",
        "print(df2)"
      ],
      "execution_count": null,
      "outputs": []
    },
    {
      "cell_type": "markdown",
      "metadata": {
        "id": "Q4KHEakI48OQ"
      },
      "source": [
        "## Downloading files to your local file system"
      ]
    },
    {
      "cell_type": "code",
      "metadata": {
        "id": "GjutzGAi40vm"
      },
      "source": [
        "from google.colab import files\n",
        "\n",
        "with open('example.txt', 'w') as f:\n",
        "  f.write('some content')\n",
        "\n",
        "files.download('example.txt')"
      ],
      "execution_count": null,
      "outputs": []
    },
    {
      "cell_type": "markdown",
      "metadata": {
        "id": "7nXLA-et5Iwg"
      },
      "source": [
        "## downloading files to Google Drive locally"
      ]
    },
    {
      "cell_type": "code",
      "metadata": {
        "id": "--WKPUAU5Fwi"
      },
      "source": [
        "with open('/content/drive/MyDrive/IDS 561 TA/Labs/write_example.txt', 'w') as f:\n",
        "  f.write('Hello Google Drive!')\n"
      ],
      "execution_count": null,
      "outputs": []
    },
    {
      "cell_type": "code",
      "metadata": {
        "id": "BdZfhEWk7A79"
      },
      "source": [
        "!cat /content/drive/MyDrive/IDS\\ 561\\ TA/Labs/write_example.txt"
      ],
      "execution_count": null,
      "outputs": []
    }
  ]
}